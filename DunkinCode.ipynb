{
 "cells": [
  {
   "cell_type": "code",
   "execution_count": 24,
   "metadata": {},
   "outputs": [],
   "source": [
    "import pandas as pd\n",
    "import json\n",
    "\n",
    "with open('dunkinDonuts.json', 'r') as file:\n",
    "    results = json.load(file)\n",
    "    data = results['data']"
   ]
  },
  {
   "cell_type": "code",
   "execution_count": 25,
   "metadata": {
    "scrolled": false
   },
   "outputs": [
    {
     "data": {
      "text/plain": [
       "{'hashKey': -918298,\n",
       " 'geoJson': {'coordinates': [37.649585, -122.40607], 'type': 'Point'},\n",
       " 'geohash': -9182987302055287277,\n",
       " 'recordId': '354702',\n",
       " 'address': '180 S Airport Blvd',\n",
       " 'address2': ' ',\n",
       " 'adv_ord': 'Y',\n",
       " 'almond': 'N',\n",
       " 'beverageonly': 'N',\n",
       " 'city': 'South San Francisco',\n",
       " 'close_reason_cd': ' ',\n",
       " 'co_brander_cd': ' ',\n",
       " 'combostore': 'N',\n",
       " 'country': 'US',\n",
       " 'county': 'San Mateo',\n",
       " 'dma_cd': '807',\n",
       " 'drivein': 'N',\n",
       " 'dunkincardenabled': 'Y',\n",
       " 'faxnumber': '--',\n",
       " 'fri_hours': '24HOURS',\n",
       " 'k_cup': 'Y',\n",
       " 'kosher': 'N',\n",
       " 'lat': '37.649585',\n",
       " 'lc': '33454002',\n",
       " 'lng': '-122.40607',\n",
       " 'loyalty': 'N',\n",
       " 'mobile': 'N',\n",
       " 'mon_hours': '24HOURS',\n",
       " 'name': 'Dunkin Donuts',\n",
       " 'operation_status_cd': '2',\n",
       " 'phonenumber': '650-742-9101',\n",
       " 'postal': '94080',\n",
       " 'sat_hours': '24HOURS',\n",
       " 'sitetype': 'EC',\n",
       " 'state': 'CA',\n",
       " 'sun_hours': '24HOURS',\n",
       " 'thu_hours': '24HOURS',\n",
       " 'tue_hours': '24HOURS',\n",
       " 'turbooven': 'Y',\n",
       " 'website': 'https://www.dunkindonuts.com',\n",
       " 'wed_hours': '24HOURS',\n",
       " 'wireless': 'N',\n",
       " 'curbside': 'N',\n",
       " 'mon_cs_hours': ' ',\n",
       " 'tue_cs_hours': ' ',\n",
       " 'wed_cs_hours': ' ',\n",
       " 'thu_cs_hours': ' ',\n",
       " 'fri_cs_hours': ' ',\n",
       " 'sat_cs_hours': ' ',\n",
       " 'sun_cs_hours': ' ',\n",
       " 'next_gen_store': ' ',\n",
       " 'dt_auto_fire': ' ',\n",
       " 'catering_flag': 'N',\n",
       " 'mon_catering_hours': ' ',\n",
       " 'tue_catering_hours': ' ',\n",
       " 'wed_catering_hours': ' ',\n",
       " 'thu_catering_hours': ' ',\n",
       " 'fri_catering_hours': ' ',\n",
       " 'sat_catering_hours': ' ',\n",
       " 'sun_catering_hours': ' ',\n",
       " 'distance': 8.685433157247935,\n",
       " 'tender_agnostic_enabled': 'Y',\n",
       " 'mobile_bypass_lane': ' ',\n",
       " 'pos_cmc_id': '1015019',\n",
       " 'pos_type': 'Radiant',\n",
       " 'last_updated_datetime': '1584423000000',\n",
       " 'dbi_fee_hr_link': ' ',\n",
       " 'apply_online': 'N'}"
      ]
     },
     "execution_count": 25,
     "metadata": {},
     "output_type": "execute_result"
    }
   ],
   "source": [
    "data[0]\n",
    "# pull state, postal, and almond"
   ]
  },
  {
   "cell_type": "code",
   "execution_count": 26,
   "metadata": {},
   "outputs": [
    {
     "name": "stdout",
     "output_type": "stream",
     "text": [
      "\n",
      "There are 9698 Dunkin Donuts stores in the US.\n"
     ]
    },
    {
     "data": {
      "text/html": [
       "<div>\n",
       "<style scoped>\n",
       "    .dataframe tbody tr th:only-of-type {\n",
       "        vertical-align: middle;\n",
       "    }\n",
       "\n",
       "    .dataframe tbody tr th {\n",
       "        vertical-align: top;\n",
       "    }\n",
       "\n",
       "    .dataframe thead th {\n",
       "        text-align: right;\n",
       "    }\n",
       "</style>\n",
       "<table border=\"1\" class=\"dataframe\">\n",
       "  <thead>\n",
       "    <tr style=\"text-align: right;\">\n",
       "      <th></th>\n",
       "      <th>State</th>\n",
       "      <th>Zip Code</th>\n",
       "      <th>Almond</th>\n",
       "    </tr>\n",
       "  </thead>\n",
       "  <tbody>\n",
       "    <tr>\n",
       "      <th>0</th>\n",
       "      <td>CA</td>\n",
       "      <td>94080</td>\n",
       "      <td>0</td>\n",
       "    </tr>\n",
       "    <tr>\n",
       "      <th>1</th>\n",
       "      <td>CA</td>\n",
       "      <td>94621</td>\n",
       "      <td>0</td>\n",
       "    </tr>\n",
       "    <tr>\n",
       "      <th>2</th>\n",
       "      <td>CA</td>\n",
       "      <td>94544</td>\n",
       "      <td>0</td>\n",
       "    </tr>\n",
       "    <tr>\n",
       "      <th>3</th>\n",
       "      <td>CA</td>\n",
       "      <td>94070</td>\n",
       "      <td>0</td>\n",
       "    </tr>\n",
       "    <tr>\n",
       "      <th>4</th>\n",
       "      <td>CA</td>\n",
       "      <td>94019</td>\n",
       "      <td>0</td>\n",
       "    </tr>\n",
       "  </tbody>\n",
       "</table>\n",
       "</div>"
      ],
      "text/plain": [
       "  State Zip Code  Almond\n",
       "0    CA    94080       0\n",
       "1    CA    94621       0\n",
       "2    CA    94544       0\n",
       "3    CA    94070       0\n",
       "4    CA    94019       0"
      ]
     },
     "execution_count": 26,
     "metadata": {},
     "output_type": "execute_result"
    }
   ],
   "source": [
    "# Create dataframe full of relevant information about Dunkin Donuts stores in the US\n",
    "# The State, City, Zip code, and whether they have almond milk\n",
    "\n",
    "IDs,states,cities,zips,almond = [],[],[],[],[]\n",
    "\n",
    "    #go item by item in the list, each item is a dictionary\n",
    "for i in data:\n",
    "    states.append(i['state'])\n",
    "    cities.append(i['city'])\n",
    "    zips.append(i['postal'])\n",
    "    \n",
    "    if i['almond']=='Y':\n",
    "        almond.append(1)\n",
    "    else:\n",
    "        almond.append(0)\n",
    "\n",
    "\n",
    "ddDF = pd.DataFrame({\n",
    "    'State':states,\n",
    "    'Zip Code':zips,\n",
    "    'Almond':almond\n",
    "})\n",
    "totalDunkin = len(data)\n",
    "\n",
    "print(f'\\nThere are {totalDunkin} Dunkin Donuts stores in the US.')\n",
    "ddDF.head()"
   ]
  },
  {
   "cell_type": "code",
   "execution_count": 33,
   "metadata": {},
   "outputs": [],
   "source": [
    "grpbyState = ddDF.groupby('State')\n",
    "\n",
    "DDtotals = pd.DataFrame()\n",
    "\n",
    "DDtotals['Total Stores'] = grpbyState.count()['Zip Code']\n",
    "DDtotals['Almond Milk?'] = grpbyState.mean()['Almond']\n",
    "DDtotals['Almond Milk?'] = pd.Series([\"{0:.0f}%\".format(val * 100) for val in DDtotals['Almond Milk?']], index = DDtotals.index)"
   ]
  },
  {
   "cell_type": "code",
   "execution_count": 34,
   "metadata": {},
   "outputs": [
    {
     "data": {
      "text/html": [
       "<div>\n",
       "<style scoped>\n",
       "    .dataframe tbody tr th:only-of-type {\n",
       "        vertical-align: middle;\n",
       "    }\n",
       "\n",
       "    .dataframe tbody tr th {\n",
       "        vertical-align: top;\n",
       "    }\n",
       "\n",
       "    .dataframe thead th {\n",
       "        text-align: right;\n",
       "    }\n",
       "</style>\n",
       "<table border=\"1\" class=\"dataframe\">\n",
       "  <thead>\n",
       "    <tr style=\"text-align: right;\">\n",
       "      <th></th>\n",
       "      <th>Total Stores</th>\n",
       "      <th>Almond Milk?</th>\n",
       "    </tr>\n",
       "    <tr>\n",
       "      <th>State</th>\n",
       "      <th></th>\n",
       "      <th></th>\n",
       "    </tr>\n",
       "  </thead>\n",
       "  <tbody>\n",
       "    <tr>\n",
       "      <th>AK</th>\n",
       "      <td>2</td>\n",
       "      <td>0%</td>\n",
       "    </tr>\n",
       "    <tr>\n",
       "      <th>AL</th>\n",
       "      <td>41</td>\n",
       "      <td>54%</td>\n",
       "    </tr>\n",
       "    <tr>\n",
       "      <th>AR</th>\n",
       "      <td>8</td>\n",
       "      <td>75%</td>\n",
       "    </tr>\n",
       "    <tr>\n",
       "      <th>AZ</th>\n",
       "      <td>96</td>\n",
       "      <td>71%</td>\n",
       "    </tr>\n",
       "    <tr>\n",
       "      <th>CA</th>\n",
       "      <td>116</td>\n",
       "      <td>22%</td>\n",
       "    </tr>\n",
       "  </tbody>\n",
       "</table>\n",
       "</div>"
      ],
      "text/plain": [
       "       Total Stores Almond Milk?\n",
       "State                           \n",
       "AK                2           0%\n",
       "AL               41          54%\n",
       "AR                8          75%\n",
       "AZ               96          71%\n",
       "CA              116          22%"
      ]
     },
     "execution_count": 34,
     "metadata": {},
     "output_type": "execute_result"
    }
   ],
   "source": [
    "DDtotals.head()"
   ]
  },
  {
   "cell_type": "code",
   "execution_count": null,
   "metadata": {},
   "outputs": [],
   "source": []
  },
  {
   "cell_type": "code",
   "execution_count": null,
   "metadata": {},
   "outputs": [],
   "source": []
  }
 ],
 "metadata": {
  "kernelspec": {
   "display_name": "Python 3",
   "language": "python",
   "name": "python3"
  },
  "language_info": {
   "codemirror_mode": {
    "name": "ipython",
    "version": 3
   },
   "file_extension": ".py",
   "mimetype": "text/x-python",
   "name": "python",
   "nbconvert_exporter": "python",
   "pygments_lexer": "ipython3",
   "version": "3.8.5"
  }
 },
 "nbformat": 4,
 "nbformat_minor": 4
}
